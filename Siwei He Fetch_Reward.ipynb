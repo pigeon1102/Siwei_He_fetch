{
 "cells": [
  {
   "cell_type": "markdown",
   "id": "35917e26",
   "metadata": {},
   "source": [
    "# Data Cleaning"
   ]
  },
  {
   "cell_type": "code",
   "execution_count": 1,
   "id": "9e001057",
   "metadata": {},
   "outputs": [],
   "source": [
    "import os\n",
    "import pandas as pd\n",
    "from datetime import datetime\n",
    "import unicodedata\n",
    "import matplotlib.pyplot as plt\n",
    "import seaborn as sns\n",
    "import sqlite3"
   ]
  },
  {
   "cell_type": "code",
   "execution_count": 2,
   "id": "ff39f702",
   "metadata": {},
   "outputs": [],
   "source": [
    "#brands\n",
    "brands = pd.read_json('brands.json', lines=True)"
   ]
  },
  {
   "cell_type": "code",
   "execution_count": 3,
   "id": "32c76f00",
   "metadata": {},
   "outputs": [
    {
     "data": {
      "text/plain": [
       "Index(['_id', 'barcode', 'category', 'categoryCode', 'cpg', 'name', 'topBrand',\n",
       "       'brandCode'],\n",
       "      dtype='object')"
      ]
     },
     "execution_count": 3,
     "metadata": {},
     "output_type": "execute_result"
    }
   ],
   "source": [
    "brands.columns"
   ]
  },
  {
   "cell_type": "code",
   "execution_count": 4,
   "id": "f444ef55",
   "metadata": {},
   "outputs": [],
   "source": [
    "brands['_id'] = brands['_id'].apply(lambda x: list(x.values())[0])"
   ]
  },
  {
   "cell_type": "code",
   "execution_count": 5,
   "id": "8281b273",
   "metadata": {},
   "outputs": [],
   "source": [
    "brands['barcode'] = brands['barcode'].astype(str)\n",
    "brands = brands.rename(columns={'_id':'BrandId'})"
   ]
  },
  {
   "cell_type": "code",
   "execution_count": 6,
   "id": "6631d624",
   "metadata": {},
   "outputs": [
    {
     "data": {
      "text/html": [
       "<div>\n",
       "<style scoped>\n",
       "    .dataframe tbody tr th:only-of-type {\n",
       "        vertical-align: middle;\n",
       "    }\n",
       "\n",
       "    .dataframe tbody tr th {\n",
       "        vertical-align: top;\n",
       "    }\n",
       "\n",
       "    .dataframe thead th {\n",
       "        text-align: right;\n",
       "    }\n",
       "</style>\n",
       "<table border=\"1\" class=\"dataframe\">\n",
       "  <thead>\n",
       "    <tr style=\"text-align: right;\">\n",
       "      <th></th>\n",
       "      <th>BrandId</th>\n",
       "      <th>barcode</th>\n",
       "      <th>category</th>\n",
       "      <th>categoryCode</th>\n",
       "      <th>cpg</th>\n",
       "      <th>name</th>\n",
       "      <th>topBrand</th>\n",
       "      <th>brandCode</th>\n",
       "    </tr>\n",
       "  </thead>\n",
       "  <tbody>\n",
       "    <tr>\n",
       "      <th>0</th>\n",
       "      <td>601ac115be37ce2ead437551</td>\n",
       "      <td>511111019862</td>\n",
       "      <td>Baking</td>\n",
       "      <td>BAKING</td>\n",
       "      <td>{'$id': {'$oid': '601ac114be37ce2ead437550'}, ...</td>\n",
       "      <td>test brand @1612366101024</td>\n",
       "      <td>0.0</td>\n",
       "      <td>NaN</td>\n",
       "    </tr>\n",
       "    <tr>\n",
       "      <th>1</th>\n",
       "      <td>601c5460be37ce2ead43755f</td>\n",
       "      <td>511111519928</td>\n",
       "      <td>Beverages</td>\n",
       "      <td>BEVERAGES</td>\n",
       "      <td>{'$id': {'$oid': '5332f5fbe4b03c9a25efd0ba'}, ...</td>\n",
       "      <td>Starbucks</td>\n",
       "      <td>0.0</td>\n",
       "      <td>STARBUCKS</td>\n",
       "    </tr>\n",
       "    <tr>\n",
       "      <th>2</th>\n",
       "      <td>601ac142be37ce2ead43755d</td>\n",
       "      <td>511111819905</td>\n",
       "      <td>Baking</td>\n",
       "      <td>BAKING</td>\n",
       "      <td>{'$id': {'$oid': '601ac142be37ce2ead437559'}, ...</td>\n",
       "      <td>test brand @1612366146176</td>\n",
       "      <td>0.0</td>\n",
       "      <td>TEST BRANDCODE @1612366146176</td>\n",
       "    </tr>\n",
       "    <tr>\n",
       "      <th>3</th>\n",
       "      <td>601ac142be37ce2ead43755a</td>\n",
       "      <td>511111519874</td>\n",
       "      <td>Baking</td>\n",
       "      <td>BAKING</td>\n",
       "      <td>{'$id': {'$oid': '601ac142be37ce2ead437559'}, ...</td>\n",
       "      <td>test brand @1612366146051</td>\n",
       "      <td>0.0</td>\n",
       "      <td>TEST BRANDCODE @1612366146051</td>\n",
       "    </tr>\n",
       "    <tr>\n",
       "      <th>4</th>\n",
       "      <td>601ac142be37ce2ead43755e</td>\n",
       "      <td>511111319917</td>\n",
       "      <td>Candy &amp; Sweets</td>\n",
       "      <td>CANDY_AND_SWEETS</td>\n",
       "      <td>{'$id': {'$oid': '5332fa12e4b03c9a25efd1e7'}, ...</td>\n",
       "      <td>test brand @1612366146827</td>\n",
       "      <td>0.0</td>\n",
       "      <td>TEST BRANDCODE @1612366146827</td>\n",
       "    </tr>\n",
       "  </tbody>\n",
       "</table>\n",
       "</div>"
      ],
      "text/plain": [
       "                    BrandId       barcode        category      categoryCode  \\\n",
       "0  601ac115be37ce2ead437551  511111019862          Baking            BAKING   \n",
       "1  601c5460be37ce2ead43755f  511111519928       Beverages         BEVERAGES   \n",
       "2  601ac142be37ce2ead43755d  511111819905          Baking            BAKING   \n",
       "3  601ac142be37ce2ead43755a  511111519874          Baking            BAKING   \n",
       "4  601ac142be37ce2ead43755e  511111319917  Candy & Sweets  CANDY_AND_SWEETS   \n",
       "\n",
       "                                                 cpg  \\\n",
       "0  {'$id': {'$oid': '601ac114be37ce2ead437550'}, ...   \n",
       "1  {'$id': {'$oid': '5332f5fbe4b03c9a25efd0ba'}, ...   \n",
       "2  {'$id': {'$oid': '601ac142be37ce2ead437559'}, ...   \n",
       "3  {'$id': {'$oid': '601ac142be37ce2ead437559'}, ...   \n",
       "4  {'$id': {'$oid': '5332fa12e4b03c9a25efd1e7'}, ...   \n",
       "\n",
       "                        name  topBrand                      brandCode  \n",
       "0  test brand @1612366101024       0.0                            NaN  \n",
       "1                  Starbucks       0.0                      STARBUCKS  \n",
       "2  test brand @1612366146176       0.0  TEST BRANDCODE @1612366146176  \n",
       "3  test brand @1612366146051       0.0  TEST BRANDCODE @1612366146051  \n",
       "4  test brand @1612366146827       0.0  TEST BRANDCODE @1612366146827  "
      ]
     },
     "execution_count": 6,
     "metadata": {},
     "output_type": "execute_result"
    }
   ],
   "source": [
    "brands.head()"
   ]
  },
  {
   "cell_type": "code",
   "execution_count": 7,
   "id": "3bec0ea9",
   "metadata": {},
   "outputs": [],
   "source": [
    "cpg = brands[['BrandId','cpg']].copy()"
   ]
  },
  {
   "cell_type": "code",
   "execution_count": 8,
   "id": "c854158e",
   "metadata": {},
   "outputs": [],
   "source": [
    "cpg['oid'] = None \n",
    "cpg['ref'] = None \n",
    "for i in range(len(brands['cpg'])):\n",
    "    if len(list(brands['cpg'][i].values())[0]) != 4:\n",
    "        cpg['oid'][i] = list(cpg['cpg'][i].values())[0]\n",
    "        cpg['ref'][i] = list(cpg['cpg'][i].values())[1]\n",
    "    else:\n",
    "        cpg['ref'][i] = list(cpg['cpg'][i].values())[0]\n",
    "        cpg['oid'][i] = list(cpg['cpg'][i].values())[1]\n",
    "    cpg['oid'][i] = list(cpg['oid'][i].values())[0]\n",
    "cpg = cpg[['BrandId','oid','ref']]\n",
    "brands = pd.merge(brands, cpg, how = 'left', on='BrandId')"
   ]
  },
  {
   "cell_type": "code",
   "execution_count": 9,
   "id": "4b8d0ab9",
   "metadata": {},
   "outputs": [],
   "source": [
    "brands = brands.drop(['cpg'],axis = 1)"
   ]
  },
  {
   "cell_type": "code",
   "execution_count": 10,
   "id": "fd42fffa",
   "metadata": {},
   "outputs": [],
   "source": [
    "# receipts \n",
    "receipts = pd.read_json('receipts.json', lines=True)\n",
    "receipts['_id'] = receipts['_id'].apply(lambda x: list(x.values())[0])"
   ]
  },
  {
   "cell_type": "code",
   "execution_count": 11,
   "id": "961e3b05",
   "metadata": {},
   "outputs": [
    {
     "data": {
      "text/plain": [
       "Index(['_id', 'bonusPointsEarned', 'bonusPointsEarnedReason', 'createDate',\n",
       "       'dateScanned', 'finishedDate', 'modifyDate', 'pointsAwardedDate',\n",
       "       'pointsEarned', 'purchaseDate', 'purchasedItemCount',\n",
       "       'rewardsReceiptItemList', 'rewardsReceiptStatus', 'totalSpent',\n",
       "       'userId'],\n",
       "      dtype='object')"
      ]
     },
     "execution_count": 11,
     "metadata": {},
     "output_type": "execute_result"
    }
   ],
   "source": [
    "receipts.columns"
   ]
  },
  {
   "cell_type": "code",
   "execution_count": 12,
   "id": "e7e0f9df",
   "metadata": {},
   "outputs": [
    {
     "data": {
      "text/html": [
       "<div>\n",
       "<style scoped>\n",
       "    .dataframe tbody tr th:only-of-type {\n",
       "        vertical-align: middle;\n",
       "    }\n",
       "\n",
       "    .dataframe tbody tr th {\n",
       "        vertical-align: top;\n",
       "    }\n",
       "\n",
       "    .dataframe thead th {\n",
       "        text-align: right;\n",
       "    }\n",
       "</style>\n",
       "<table border=\"1\" class=\"dataframe\">\n",
       "  <thead>\n",
       "    <tr style=\"text-align: right;\">\n",
       "      <th></th>\n",
       "      <th>_id</th>\n",
       "      <th>bonusPointsEarned</th>\n",
       "      <th>bonusPointsEarnedReason</th>\n",
       "      <th>createDate</th>\n",
       "      <th>dateScanned</th>\n",
       "      <th>finishedDate</th>\n",
       "      <th>modifyDate</th>\n",
       "      <th>pointsAwardedDate</th>\n",
       "      <th>pointsEarned</th>\n",
       "      <th>purchaseDate</th>\n",
       "      <th>purchasedItemCount</th>\n",
       "      <th>rewardsReceiptItemList</th>\n",
       "      <th>rewardsReceiptStatus</th>\n",
       "      <th>totalSpent</th>\n",
       "      <th>userId</th>\n",
       "    </tr>\n",
       "  </thead>\n",
       "  <tbody>\n",
       "    <tr>\n",
       "      <th>0</th>\n",
       "      <td>5ff1e1eb0a720f0523000575</td>\n",
       "      <td>500.0</td>\n",
       "      <td>Receipt number 2 completed, bonus point schedu...</td>\n",
       "      <td>{'$date': 1609687531000}</td>\n",
       "      <td>{'$date': 1609687531000}</td>\n",
       "      <td>{'$date': 1609687531000}</td>\n",
       "      <td>{'$date': 1609687536000}</td>\n",
       "      <td>{'$date': 1609687531000}</td>\n",
       "      <td>500.0</td>\n",
       "      <td>{'$date': 1609632000000}</td>\n",
       "      <td>5.0</td>\n",
       "      <td>[{'barcode': '4011', 'description': 'ITEM NOT ...</td>\n",
       "      <td>FINISHED</td>\n",
       "      <td>26.0</td>\n",
       "      <td>5ff1e1eacfcf6c399c274ae6</td>\n",
       "    </tr>\n",
       "    <tr>\n",
       "      <th>1</th>\n",
       "      <td>5ff1e1bb0a720f052300056b</td>\n",
       "      <td>150.0</td>\n",
       "      <td>Receipt number 5 completed, bonus point schedu...</td>\n",
       "      <td>{'$date': 1609687483000}</td>\n",
       "      <td>{'$date': 1609687483000}</td>\n",
       "      <td>{'$date': 1609687483000}</td>\n",
       "      <td>{'$date': 1609687488000}</td>\n",
       "      <td>{'$date': 1609687483000}</td>\n",
       "      <td>150.0</td>\n",
       "      <td>{'$date': 1609601083000}</td>\n",
       "      <td>2.0</td>\n",
       "      <td>[{'barcode': '4011', 'description': 'ITEM NOT ...</td>\n",
       "      <td>FINISHED</td>\n",
       "      <td>11.0</td>\n",
       "      <td>5ff1e194b6a9d73a3a9f1052</td>\n",
       "    </tr>\n",
       "    <tr>\n",
       "      <th>2</th>\n",
       "      <td>5ff1e1f10a720f052300057a</td>\n",
       "      <td>5.0</td>\n",
       "      <td>All-receipts receipt bonus</td>\n",
       "      <td>{'$date': 1609687537000}</td>\n",
       "      <td>{'$date': 1609687537000}</td>\n",
       "      <td>NaN</td>\n",
       "      <td>{'$date': 1609687542000}</td>\n",
       "      <td>NaN</td>\n",
       "      <td>5.0</td>\n",
       "      <td>{'$date': 1609632000000}</td>\n",
       "      <td>1.0</td>\n",
       "      <td>[{'needsFetchReview': False, 'partnerItemId': ...</td>\n",
       "      <td>REJECTED</td>\n",
       "      <td>10.0</td>\n",
       "      <td>5ff1e1f1cfcf6c399c274b0b</td>\n",
       "    </tr>\n",
       "    <tr>\n",
       "      <th>3</th>\n",
       "      <td>5ff1e1ee0a7214ada100056f</td>\n",
       "      <td>5.0</td>\n",
       "      <td>All-receipts receipt bonus</td>\n",
       "      <td>{'$date': 1609687534000}</td>\n",
       "      <td>{'$date': 1609687534000}</td>\n",
       "      <td>{'$date': 1609687534000}</td>\n",
       "      <td>{'$date': 1609687539000}</td>\n",
       "      <td>{'$date': 1609687534000}</td>\n",
       "      <td>5.0</td>\n",
       "      <td>{'$date': 1609632000000}</td>\n",
       "      <td>4.0</td>\n",
       "      <td>[{'barcode': '4011', 'description': 'ITEM NOT ...</td>\n",
       "      <td>FINISHED</td>\n",
       "      <td>28.0</td>\n",
       "      <td>5ff1e1eacfcf6c399c274ae6</td>\n",
       "    </tr>\n",
       "    <tr>\n",
       "      <th>4</th>\n",
       "      <td>5ff1e1d20a7214ada1000561</td>\n",
       "      <td>5.0</td>\n",
       "      <td>All-receipts receipt bonus</td>\n",
       "      <td>{'$date': 1609687506000}</td>\n",
       "      <td>{'$date': 1609687506000}</td>\n",
       "      <td>{'$date': 1609687511000}</td>\n",
       "      <td>{'$date': 1609687511000}</td>\n",
       "      <td>{'$date': 1609687506000}</td>\n",
       "      <td>5.0</td>\n",
       "      <td>{'$date': 1609601106000}</td>\n",
       "      <td>2.0</td>\n",
       "      <td>[{'barcode': '4011', 'description': 'ITEM NOT ...</td>\n",
       "      <td>FINISHED</td>\n",
       "      <td>1.0</td>\n",
       "      <td>5ff1e194b6a9d73a3a9f1052</td>\n",
       "    </tr>\n",
       "  </tbody>\n",
       "</table>\n",
       "</div>"
      ],
      "text/plain": [
       "                        _id  bonusPointsEarned  \\\n",
       "0  5ff1e1eb0a720f0523000575              500.0   \n",
       "1  5ff1e1bb0a720f052300056b              150.0   \n",
       "2  5ff1e1f10a720f052300057a                5.0   \n",
       "3  5ff1e1ee0a7214ada100056f                5.0   \n",
       "4  5ff1e1d20a7214ada1000561                5.0   \n",
       "\n",
       "                             bonusPointsEarnedReason  \\\n",
       "0  Receipt number 2 completed, bonus point schedu...   \n",
       "1  Receipt number 5 completed, bonus point schedu...   \n",
       "2                         All-receipts receipt bonus   \n",
       "3                         All-receipts receipt bonus   \n",
       "4                         All-receipts receipt bonus   \n",
       "\n",
       "                 createDate               dateScanned  \\\n",
       "0  {'$date': 1609687531000}  {'$date': 1609687531000}   \n",
       "1  {'$date': 1609687483000}  {'$date': 1609687483000}   \n",
       "2  {'$date': 1609687537000}  {'$date': 1609687537000}   \n",
       "3  {'$date': 1609687534000}  {'$date': 1609687534000}   \n",
       "4  {'$date': 1609687506000}  {'$date': 1609687506000}   \n",
       "\n",
       "               finishedDate                modifyDate  \\\n",
       "0  {'$date': 1609687531000}  {'$date': 1609687536000}   \n",
       "1  {'$date': 1609687483000}  {'$date': 1609687488000}   \n",
       "2                       NaN  {'$date': 1609687542000}   \n",
       "3  {'$date': 1609687534000}  {'$date': 1609687539000}   \n",
       "4  {'$date': 1609687511000}  {'$date': 1609687511000}   \n",
       "\n",
       "          pointsAwardedDate  pointsEarned              purchaseDate  \\\n",
       "0  {'$date': 1609687531000}         500.0  {'$date': 1609632000000}   \n",
       "1  {'$date': 1609687483000}         150.0  {'$date': 1609601083000}   \n",
       "2                       NaN           5.0  {'$date': 1609632000000}   \n",
       "3  {'$date': 1609687534000}           5.0  {'$date': 1609632000000}   \n",
       "4  {'$date': 1609687506000}           5.0  {'$date': 1609601106000}   \n",
       "\n",
       "   purchasedItemCount                             rewardsReceiptItemList  \\\n",
       "0                 5.0  [{'barcode': '4011', 'description': 'ITEM NOT ...   \n",
       "1                 2.0  [{'barcode': '4011', 'description': 'ITEM NOT ...   \n",
       "2                 1.0  [{'needsFetchReview': False, 'partnerItemId': ...   \n",
       "3                 4.0  [{'barcode': '4011', 'description': 'ITEM NOT ...   \n",
       "4                 2.0  [{'barcode': '4011', 'description': 'ITEM NOT ...   \n",
       "\n",
       "  rewardsReceiptStatus  totalSpent                    userId  \n",
       "0             FINISHED        26.0  5ff1e1eacfcf6c399c274ae6  \n",
       "1             FINISHED        11.0  5ff1e194b6a9d73a3a9f1052  \n",
       "2             REJECTED        10.0  5ff1e1f1cfcf6c399c274b0b  \n",
       "3             FINISHED        28.0  5ff1e1eacfcf6c399c274ae6  \n",
       "4             FINISHED         1.0  5ff1e194b6a9d73a3a9f1052  "
      ]
     },
     "execution_count": 12,
     "metadata": {},
     "output_type": "execute_result"
    }
   ],
   "source": [
    "receipts.head()"
   ]
  },
  {
   "cell_type": "code",
   "execution_count": 13,
   "id": "660c8257",
   "metadata": {},
   "outputs": [],
   "source": [
    "def date_convert(d):\n",
    "    if type(d) == float:\n",
    "        pass\n",
    "    else:\n",
    "        return(pd.to_datetime(list(d.values())[0], unit='ms'))"
   ]
  },
  {
   "cell_type": "code",
   "execution_count": 14,
   "id": "fc9795ca",
   "metadata": {},
   "outputs": [],
   "source": [
    "receipts['createDate'] = receipts['createDate'].apply(lambda x: date_convert(x))\n",
    "receipts['dateScanned'] = receipts['dateScanned'].apply(lambda x: date_convert(x))\n",
    "receipts['finishedDate'] = receipts['finishedDate'].apply(lambda x: date_convert(x))\n",
    "receipts['modifyDate'] = receipts['modifyDate'].apply(lambda x: date_convert(x))\n",
    "receipts['pointsAwardedDate'] = receipts['pointsAwardedDate'].apply(lambda x: date_convert(x))\n",
    "receipts['purchaseDate'] = receipts['purchaseDate'].apply(lambda x: date_convert(x))\n",
    "receipts = receipts.rename(columns={'_id':'ReceiptId'})"
   ]
  },
  {
   "cell_type": "code",
   "execution_count": 15,
   "id": "19e38f13",
   "metadata": {},
   "outputs": [
    {
     "data": {
      "text/html": [
       "<div>\n",
       "<style scoped>\n",
       "    .dataframe tbody tr th:only-of-type {\n",
       "        vertical-align: middle;\n",
       "    }\n",
       "\n",
       "    .dataframe tbody tr th {\n",
       "        vertical-align: top;\n",
       "    }\n",
       "\n",
       "    .dataframe thead th {\n",
       "        text-align: right;\n",
       "    }\n",
       "</style>\n",
       "<table border=\"1\" class=\"dataframe\">\n",
       "  <thead>\n",
       "    <tr style=\"text-align: right;\">\n",
       "      <th></th>\n",
       "      <th>ReceiptId</th>\n",
       "      <th>bonusPointsEarned</th>\n",
       "      <th>bonusPointsEarnedReason</th>\n",
       "      <th>createDate</th>\n",
       "      <th>dateScanned</th>\n",
       "      <th>finishedDate</th>\n",
       "      <th>modifyDate</th>\n",
       "      <th>pointsAwardedDate</th>\n",
       "      <th>pointsEarned</th>\n",
       "      <th>purchaseDate</th>\n",
       "      <th>purchasedItemCount</th>\n",
       "      <th>rewardsReceiptItemList</th>\n",
       "      <th>rewardsReceiptStatus</th>\n",
       "      <th>totalSpent</th>\n",
       "      <th>userId</th>\n",
       "    </tr>\n",
       "  </thead>\n",
       "  <tbody>\n",
       "    <tr>\n",
       "      <th>0</th>\n",
       "      <td>5ff1e1eb0a720f0523000575</td>\n",
       "      <td>500.0</td>\n",
       "      <td>Receipt number 2 completed, bonus point schedu...</td>\n",
       "      <td>2021-01-03 15:25:31</td>\n",
       "      <td>2021-01-03 15:25:31</td>\n",
       "      <td>2021-01-03 15:25:31</td>\n",
       "      <td>2021-01-03 15:25:36</td>\n",
       "      <td>2021-01-03 15:25:31</td>\n",
       "      <td>500.0</td>\n",
       "      <td>2021-01-03 00:00:00</td>\n",
       "      <td>5.0</td>\n",
       "      <td>[{'barcode': '4011', 'description': 'ITEM NOT ...</td>\n",
       "      <td>FINISHED</td>\n",
       "      <td>26.0</td>\n",
       "      <td>5ff1e1eacfcf6c399c274ae6</td>\n",
       "    </tr>\n",
       "    <tr>\n",
       "      <th>1</th>\n",
       "      <td>5ff1e1bb0a720f052300056b</td>\n",
       "      <td>150.0</td>\n",
       "      <td>Receipt number 5 completed, bonus point schedu...</td>\n",
       "      <td>2021-01-03 15:24:43</td>\n",
       "      <td>2021-01-03 15:24:43</td>\n",
       "      <td>2021-01-03 15:24:43</td>\n",
       "      <td>2021-01-03 15:24:48</td>\n",
       "      <td>2021-01-03 15:24:43</td>\n",
       "      <td>150.0</td>\n",
       "      <td>2021-01-02 15:24:43</td>\n",
       "      <td>2.0</td>\n",
       "      <td>[{'barcode': '4011', 'description': 'ITEM NOT ...</td>\n",
       "      <td>FINISHED</td>\n",
       "      <td>11.0</td>\n",
       "      <td>5ff1e194b6a9d73a3a9f1052</td>\n",
       "    </tr>\n",
       "    <tr>\n",
       "      <th>2</th>\n",
       "      <td>5ff1e1f10a720f052300057a</td>\n",
       "      <td>5.0</td>\n",
       "      <td>All-receipts receipt bonus</td>\n",
       "      <td>2021-01-03 15:25:37</td>\n",
       "      <td>2021-01-03 15:25:37</td>\n",
       "      <td>NaT</td>\n",
       "      <td>2021-01-03 15:25:42</td>\n",
       "      <td>NaT</td>\n",
       "      <td>5.0</td>\n",
       "      <td>2021-01-03 00:00:00</td>\n",
       "      <td>1.0</td>\n",
       "      <td>[{'needsFetchReview': False, 'partnerItemId': ...</td>\n",
       "      <td>REJECTED</td>\n",
       "      <td>10.0</td>\n",
       "      <td>5ff1e1f1cfcf6c399c274b0b</td>\n",
       "    </tr>\n",
       "    <tr>\n",
       "      <th>3</th>\n",
       "      <td>5ff1e1ee0a7214ada100056f</td>\n",
       "      <td>5.0</td>\n",
       "      <td>All-receipts receipt bonus</td>\n",
       "      <td>2021-01-03 15:25:34</td>\n",
       "      <td>2021-01-03 15:25:34</td>\n",
       "      <td>2021-01-03 15:25:34</td>\n",
       "      <td>2021-01-03 15:25:39</td>\n",
       "      <td>2021-01-03 15:25:34</td>\n",
       "      <td>5.0</td>\n",
       "      <td>2021-01-03 00:00:00</td>\n",
       "      <td>4.0</td>\n",
       "      <td>[{'barcode': '4011', 'description': 'ITEM NOT ...</td>\n",
       "      <td>FINISHED</td>\n",
       "      <td>28.0</td>\n",
       "      <td>5ff1e1eacfcf6c399c274ae6</td>\n",
       "    </tr>\n",
       "    <tr>\n",
       "      <th>4</th>\n",
       "      <td>5ff1e1d20a7214ada1000561</td>\n",
       "      <td>5.0</td>\n",
       "      <td>All-receipts receipt bonus</td>\n",
       "      <td>2021-01-03 15:25:06</td>\n",
       "      <td>2021-01-03 15:25:06</td>\n",
       "      <td>2021-01-03 15:25:11</td>\n",
       "      <td>2021-01-03 15:25:11</td>\n",
       "      <td>2021-01-03 15:25:06</td>\n",
       "      <td>5.0</td>\n",
       "      <td>2021-01-02 15:25:06</td>\n",
       "      <td>2.0</td>\n",
       "      <td>[{'barcode': '4011', 'description': 'ITEM NOT ...</td>\n",
       "      <td>FINISHED</td>\n",
       "      <td>1.0</td>\n",
       "      <td>5ff1e194b6a9d73a3a9f1052</td>\n",
       "    </tr>\n",
       "  </tbody>\n",
       "</table>\n",
       "</div>"
      ],
      "text/plain": [
       "                  ReceiptId  bonusPointsEarned  \\\n",
       "0  5ff1e1eb0a720f0523000575              500.0   \n",
       "1  5ff1e1bb0a720f052300056b              150.0   \n",
       "2  5ff1e1f10a720f052300057a                5.0   \n",
       "3  5ff1e1ee0a7214ada100056f                5.0   \n",
       "4  5ff1e1d20a7214ada1000561                5.0   \n",
       "\n",
       "                             bonusPointsEarnedReason          createDate  \\\n",
       "0  Receipt number 2 completed, bonus point schedu... 2021-01-03 15:25:31   \n",
       "1  Receipt number 5 completed, bonus point schedu... 2021-01-03 15:24:43   \n",
       "2                         All-receipts receipt bonus 2021-01-03 15:25:37   \n",
       "3                         All-receipts receipt bonus 2021-01-03 15:25:34   \n",
       "4                         All-receipts receipt bonus 2021-01-03 15:25:06   \n",
       "\n",
       "          dateScanned        finishedDate          modifyDate  \\\n",
       "0 2021-01-03 15:25:31 2021-01-03 15:25:31 2021-01-03 15:25:36   \n",
       "1 2021-01-03 15:24:43 2021-01-03 15:24:43 2021-01-03 15:24:48   \n",
       "2 2021-01-03 15:25:37                 NaT 2021-01-03 15:25:42   \n",
       "3 2021-01-03 15:25:34 2021-01-03 15:25:34 2021-01-03 15:25:39   \n",
       "4 2021-01-03 15:25:06 2021-01-03 15:25:11 2021-01-03 15:25:11   \n",
       "\n",
       "    pointsAwardedDate  pointsEarned        purchaseDate  purchasedItemCount  \\\n",
       "0 2021-01-03 15:25:31         500.0 2021-01-03 00:00:00                 5.0   \n",
       "1 2021-01-03 15:24:43         150.0 2021-01-02 15:24:43                 2.0   \n",
       "2                 NaT           5.0 2021-01-03 00:00:00                 1.0   \n",
       "3 2021-01-03 15:25:34           5.0 2021-01-03 00:00:00                 4.0   \n",
       "4 2021-01-03 15:25:06           5.0 2021-01-02 15:25:06                 2.0   \n",
       "\n",
       "                              rewardsReceiptItemList rewardsReceiptStatus  \\\n",
       "0  [{'barcode': '4011', 'description': 'ITEM NOT ...             FINISHED   \n",
       "1  [{'barcode': '4011', 'description': 'ITEM NOT ...             FINISHED   \n",
       "2  [{'needsFetchReview': False, 'partnerItemId': ...             REJECTED   \n",
       "3  [{'barcode': '4011', 'description': 'ITEM NOT ...             FINISHED   \n",
       "4  [{'barcode': '4011', 'description': 'ITEM NOT ...             FINISHED   \n",
       "\n",
       "   totalSpent                    userId  \n",
       "0        26.0  5ff1e1eacfcf6c399c274ae6  \n",
       "1        11.0  5ff1e194b6a9d73a3a9f1052  \n",
       "2        10.0  5ff1e1f1cfcf6c399c274b0b  \n",
       "3        28.0  5ff1e1eacfcf6c399c274ae6  \n",
       "4         1.0  5ff1e194b6a9d73a3a9f1052  "
      ]
     },
     "execution_count": 15,
     "metadata": {},
     "output_type": "execute_result"
    }
   ],
   "source": [
    "receipts.head()"
   ]
  },
  {
   "cell_type": "code",
   "execution_count": 16,
   "id": "d4a0b2ee",
   "metadata": {},
   "outputs": [],
   "source": [
    "rrit = receipts[['ReceiptId','rewardsReceiptItemList']].copy()"
   ]
  },
  {
   "cell_type": "code",
   "execution_count": 17,
   "id": "1289d61a",
   "metadata": {},
   "outputs": [
    {
     "data": {
      "text/html": [
       "<div>\n",
       "<style scoped>\n",
       "    .dataframe tbody tr th:only-of-type {\n",
       "        vertical-align: middle;\n",
       "    }\n",
       "\n",
       "    .dataframe tbody tr th {\n",
       "        vertical-align: top;\n",
       "    }\n",
       "\n",
       "    .dataframe thead th {\n",
       "        text-align: right;\n",
       "    }\n",
       "</style>\n",
       "<table border=\"1\" class=\"dataframe\">\n",
       "  <thead>\n",
       "    <tr style=\"text-align: right;\">\n",
       "      <th></th>\n",
       "      <th>ReceiptId</th>\n",
       "      <th>rewardsReceiptItemList</th>\n",
       "    </tr>\n",
       "  </thead>\n",
       "  <tbody>\n",
       "    <tr>\n",
       "      <th>0</th>\n",
       "      <td>5ff1e1eb0a720f0523000575</td>\n",
       "      <td>[{'barcode': '4011', 'description': 'ITEM NOT ...</td>\n",
       "    </tr>\n",
       "    <tr>\n",
       "      <th>1</th>\n",
       "      <td>5ff1e1bb0a720f052300056b</td>\n",
       "      <td>[{'barcode': '4011', 'description': 'ITEM NOT ...</td>\n",
       "    </tr>\n",
       "    <tr>\n",
       "      <th>2</th>\n",
       "      <td>5ff1e1f10a720f052300057a</td>\n",
       "      <td>[{'needsFetchReview': False, 'partnerItemId': ...</td>\n",
       "    </tr>\n",
       "    <tr>\n",
       "      <th>3</th>\n",
       "      <td>5ff1e1ee0a7214ada100056f</td>\n",
       "      <td>[{'barcode': '4011', 'description': 'ITEM NOT ...</td>\n",
       "    </tr>\n",
       "    <tr>\n",
       "      <th>4</th>\n",
       "      <td>5ff1e1d20a7214ada1000561</td>\n",
       "      <td>[{'barcode': '4011', 'description': 'ITEM NOT ...</td>\n",
       "    </tr>\n",
       "  </tbody>\n",
       "</table>\n",
       "</div>"
      ],
      "text/plain": [
       "                  ReceiptId                             rewardsReceiptItemList\n",
       "0  5ff1e1eb0a720f0523000575  [{'barcode': '4011', 'description': 'ITEM NOT ...\n",
       "1  5ff1e1bb0a720f052300056b  [{'barcode': '4011', 'description': 'ITEM NOT ...\n",
       "2  5ff1e1f10a720f052300057a  [{'needsFetchReview': False, 'partnerItemId': ...\n",
       "3  5ff1e1ee0a7214ada100056f  [{'barcode': '4011', 'description': 'ITEM NOT ...\n",
       "4  5ff1e1d20a7214ada1000561  [{'barcode': '4011', 'description': 'ITEM NOT ..."
      ]
     },
     "execution_count": 17,
     "metadata": {},
     "output_type": "execute_result"
    }
   ],
   "source": [
    "rrit.head()"
   ]
  },
  {
   "cell_type": "code",
   "execution_count": 21,
   "id": "070f2a8f",
   "metadata": {},
   "outputs": [],
   "source": [
    "item_df = pd.DataFrame()"
   ]
  },
  {
   "cell_type": "code",
   "execution_count": 24,
   "id": "1a587755",
   "metadata": {},
   "outputs": [],
   "source": [
    "item_df['ReceiptId'] = None"
   ]
  },
  {
   "cell_type": "code",
   "execution_count": 18,
   "id": "acd06224",
   "metadata": {},
   "outputs": [
    {
     "data": {
      "text/plain": [
       "Index(['ReceiptId', 'rewardsReceiptItemList'], dtype='object')"
      ]
     },
     "execution_count": 18,
     "metadata": {},
     "output_type": "execute_result"
    }
   ],
   "source": [
    "rrit.columns"
   ]
  },
  {
   "cell_type": "code",
   "execution_count": 20,
   "id": "b1357446",
   "metadata": {},
   "outputs": [
    {
     "data": {
      "text/plain": [
       "0       [{'barcode': '4011', 'description': 'ITEM NOT ...\n",
       "1       [{'barcode': '4011', 'description': 'ITEM NOT ...\n",
       "2       [{'needsFetchReview': False, 'partnerItemId': ...\n",
       "3       [{'barcode': '4011', 'description': 'ITEM NOT ...\n",
       "4       [{'barcode': '4011', 'description': 'ITEM NOT ...\n",
       "                              ...                        \n",
       "1114    [{'barcode': 'B076FJ92M4', 'description': 'mue...\n",
       "1115                                                  NaN\n",
       "1116                                                  NaN\n",
       "1117    [{'barcode': 'B076FJ92M4', 'description': 'mue...\n",
       "1118                                                  NaN\n",
       "Name: rewardsReceiptItemList, Length: 1119, dtype: object"
      ]
     },
     "execution_count": 20,
     "metadata": {},
     "output_type": "execute_result"
    }
   ],
   "source": [
    "rrit['rewardsReceiptItemList'][0]"
   ]
  },
  {
   "cell_type": "code",
   "execution_count": 30,
   "id": "f881e427",
   "metadata": {},
   "outputs": [],
   "source": [
    "item_list = []\n",
    "col_list = []"
   ]
  },
  {
   "cell_type": "code",
   "execution_count": 31,
   "id": "c5bab7cf",
   "metadata": {},
   "outputs": [],
   "source": [
    "for i in range(len(rrit['rewardsReceiptItemList'])):\n",
    "    if type(rrit['rewardsReceiptItemList'][i]) == list: \n",
    "        for d in rrit['rewardsReceiptItemList'][i]:\n",
    "            for key in d:\n",
    "                if key not in col_list:\n",
    "                    col_list.append(key)\n",
    "            item_list.append(d)\n",
    "            item_list[-1]['ReceiptId'] = rrit['ReceiptId'][i]"
   ]
  },
  {
   "cell_type": "code",
   "execution_count": 53,
   "id": "2b7ebe86",
   "metadata": {},
   "outputs": [
    {
     "data": {
      "text/plain": [
       "['barcode',\n",
       " 'description',\n",
       " 'finalPrice',\n",
       " 'itemPrice',\n",
       " 'needsFetchReview',\n",
       " 'partnerItemId',\n",
       " 'preventTargetGapPoints',\n",
       " 'quantityPurchased',\n",
       " 'userFlaggedBarcode',\n",
       " 'userFlaggedNewItem',\n",
       " 'userFlaggedPrice',\n",
       " 'userFlaggedQuantity',\n",
       " 'needsFetchReviewReason',\n",
       " 'pointsNotAwardedReason',\n",
       " 'pointsPayerId',\n",
       " 'rewardsGroup',\n",
       " 'rewardsProductPartnerId',\n",
       " 'userFlaggedDescription',\n",
       " 'originalMetaBriteBarcode',\n",
       " 'originalMetaBriteDescription',\n",
       " 'brandCode',\n",
       " 'competitorRewardsGroup',\n",
       " 'discountedItemPrice',\n",
       " 'originalReceiptItemText',\n",
       " 'itemNumber',\n",
       " 'originalMetaBriteQuantityPurchased',\n",
       " 'pointsEarned',\n",
       " 'targetPrice',\n",
       " 'competitiveProduct',\n",
       " 'originalFinalPrice',\n",
       " 'originalMetaBriteItemPrice',\n",
       " 'deleted',\n",
       " 'priceAfterCoupon',\n",
       " 'metabriteCampaignId',\n",
       " 'ReceiptId']"
      ]
     },
     "execution_count": 53,
     "metadata": {},
     "output_type": "execute_result"
    }
   ],
   "source": [
    "col_list"
   ]
  },
  {
   "cell_type": "code",
   "execution_count": 37,
   "id": "97561bbd",
   "metadata": {},
   "outputs": [],
   "source": [
    "col_list.append('ReceiptId')"
   ]
  },
  {
   "cell_type": "code",
   "execution_count": 38,
   "id": "7ea84140",
   "metadata": {},
   "outputs": [],
   "source": [
    "item_df = pd.DataFrame(columns = col_list)"
   ]
  },
  {
   "cell_type": "code",
   "execution_count": 42,
   "id": "cd1e3166",
   "metadata": {},
   "outputs": [
    {
     "data": {
      "text/plain": [
       "{'barcode': 'B07BRRLSVC',\n",
       " 'description': 'thindust summer face mask - sun protection neck gaiter for outdooractivities',\n",
       " 'finalPrice': '11.99',\n",
       " 'itemPrice': '11.99',\n",
       " 'needsFetchReview': None,\n",
       " 'partnerItemId': '1',\n",
       " 'preventTargetGapPoints': None,\n",
       " 'quantityPurchased': 1,\n",
       " 'userFlaggedBarcode': None,\n",
       " 'userFlaggedNewItem': None,\n",
       " 'userFlaggedPrice': None,\n",
       " 'userFlaggedQuantity': None,\n",
       " 'needsFetchReviewReason': None,\n",
       " 'pointsNotAwardedReason': None,\n",
       " 'pointsPayerId': None,\n",
       " 'rewardsGroup': None,\n",
       " 'rewardsProductPartnerId': None,\n",
       " 'userFlaggedDescription': None,\n",
       " 'originalMetaBriteBarcode': None,\n",
       " 'originalMetaBriteDescription': None,\n",
       " 'brandCode': None,\n",
       " 'competitorRewardsGroup': None,\n",
       " 'discountedItemPrice': '11.99',\n",
       " 'originalReceiptItemText': 'thindust summer face mask - sun protection neck gaiter for outdooractivities',\n",
       " 'itemNumber': None,\n",
       " 'originalMetaBriteQuantityPurchased': None,\n",
       " 'pointsEarned': None,\n",
       " 'targetPrice': None,\n",
       " 'competitiveProduct': None,\n",
       " 'originalFinalPrice': None,\n",
       " 'originalMetaBriteItemPrice': None,\n",
       " 'deleted': None,\n",
       " 'priceAfterCoupon': '11.99',\n",
       " 'metabriteCampaignId': None,\n",
       " 'ReceiptId': '603ce7100a7217c72c000405'}"
      ]
     },
     "execution_count": 42,
     "metadata": {},
     "output_type": "execute_result"
    }
   ],
   "source": [
    "temp"
   ]
  },
  {
   "cell_type": "code",
   "execution_count": 45,
   "id": "91eae473",
   "metadata": {},
   "outputs": [],
   "source": [
    "for d in item_list:\n",
    "    temp = {}\n",
    "    for key in col_list:\n",
    "        temp[key] = None\n",
    "    for key in d:\n",
    "        temp[key] = d[key]\n",
    "    item_df = item_df.append(temp, ignore_index= True)"
   ]
  },
  {
   "cell_type": "code",
   "execution_count": 47,
   "id": "222946c8",
   "metadata": {},
   "outputs": [
    {
     "data": {
      "text/html": [
       "<div>\n",
       "<style scoped>\n",
       "    .dataframe tbody tr th:only-of-type {\n",
       "        vertical-align: middle;\n",
       "    }\n",
       "\n",
       "    .dataframe tbody tr th {\n",
       "        vertical-align: top;\n",
       "    }\n",
       "\n",
       "    .dataframe thead th {\n",
       "        text-align: right;\n",
       "    }\n",
       "</style>\n",
       "<table border=\"1\" class=\"dataframe\">\n",
       "  <thead>\n",
       "    <tr style=\"text-align: right;\">\n",
       "      <th></th>\n",
       "      <th>barcode</th>\n",
       "      <th>description</th>\n",
       "      <th>finalPrice</th>\n",
       "      <th>itemPrice</th>\n",
       "      <th>needsFetchReview</th>\n",
       "      <th>partnerItemId</th>\n",
       "      <th>preventTargetGapPoints</th>\n",
       "      <th>quantityPurchased</th>\n",
       "      <th>userFlaggedBarcode</th>\n",
       "      <th>userFlaggedNewItem</th>\n",
       "      <th>...</th>\n",
       "      <th>originalMetaBriteQuantityPurchased</th>\n",
       "      <th>pointsEarned</th>\n",
       "      <th>targetPrice</th>\n",
       "      <th>competitiveProduct</th>\n",
       "      <th>originalFinalPrice</th>\n",
       "      <th>originalMetaBriteItemPrice</th>\n",
       "      <th>deleted</th>\n",
       "      <th>priceAfterCoupon</th>\n",
       "      <th>metabriteCampaignId</th>\n",
       "      <th>ReceiptId</th>\n",
       "    </tr>\n",
       "  </thead>\n",
       "  <tbody>\n",
       "    <tr>\n",
       "      <th>0</th>\n",
       "      <td>4011</td>\n",
       "      <td>ITEM NOT FOUND</td>\n",
       "      <td>26.00</td>\n",
       "      <td>26.00</td>\n",
       "      <td>False</td>\n",
       "      <td>1</td>\n",
       "      <td>True</td>\n",
       "      <td>5</td>\n",
       "      <td>4011</td>\n",
       "      <td>True</td>\n",
       "      <td>...</td>\n",
       "      <td>None</td>\n",
       "      <td>None</td>\n",
       "      <td>None</td>\n",
       "      <td>None</td>\n",
       "      <td>None</td>\n",
       "      <td>None</td>\n",
       "      <td>None</td>\n",
       "      <td>None</td>\n",
       "      <td>None</td>\n",
       "      <td>5ff1e1eb0a720f0523000575</td>\n",
       "    </tr>\n",
       "    <tr>\n",
       "      <th>1</th>\n",
       "      <td>4011</td>\n",
       "      <td>ITEM NOT FOUND</td>\n",
       "      <td>1</td>\n",
       "      <td>1</td>\n",
       "      <td>None</td>\n",
       "      <td>1</td>\n",
       "      <td>None</td>\n",
       "      <td>1</td>\n",
       "      <td>None</td>\n",
       "      <td>None</td>\n",
       "      <td>...</td>\n",
       "      <td>None</td>\n",
       "      <td>None</td>\n",
       "      <td>None</td>\n",
       "      <td>None</td>\n",
       "      <td>None</td>\n",
       "      <td>None</td>\n",
       "      <td>None</td>\n",
       "      <td>None</td>\n",
       "      <td>None</td>\n",
       "      <td>5ff1e1bb0a720f052300056b</td>\n",
       "    </tr>\n",
       "    <tr>\n",
       "      <th>2</th>\n",
       "      <td>028400642255</td>\n",
       "      <td>DORITOS TORTILLA CHIP SPICY SWEET CHILI REDUCE...</td>\n",
       "      <td>10.00</td>\n",
       "      <td>10.00</td>\n",
       "      <td>True</td>\n",
       "      <td>2</td>\n",
       "      <td>True</td>\n",
       "      <td>1</td>\n",
       "      <td>028400642255</td>\n",
       "      <td>True</td>\n",
       "      <td>...</td>\n",
       "      <td>None</td>\n",
       "      <td>None</td>\n",
       "      <td>None</td>\n",
       "      <td>None</td>\n",
       "      <td>None</td>\n",
       "      <td>None</td>\n",
       "      <td>None</td>\n",
       "      <td>None</td>\n",
       "      <td>None</td>\n",
       "      <td>5ff1e1bb0a720f052300056b</td>\n",
       "    </tr>\n",
       "    <tr>\n",
       "      <th>3</th>\n",
       "      <td>None</td>\n",
       "      <td>None</td>\n",
       "      <td>None</td>\n",
       "      <td>None</td>\n",
       "      <td>False</td>\n",
       "      <td>1</td>\n",
       "      <td>True</td>\n",
       "      <td>None</td>\n",
       "      <td>4011</td>\n",
       "      <td>True</td>\n",
       "      <td>...</td>\n",
       "      <td>None</td>\n",
       "      <td>None</td>\n",
       "      <td>None</td>\n",
       "      <td>None</td>\n",
       "      <td>None</td>\n",
       "      <td>None</td>\n",
       "      <td>None</td>\n",
       "      <td>None</td>\n",
       "      <td>None</td>\n",
       "      <td>5ff1e1f10a720f052300057a</td>\n",
       "    </tr>\n",
       "    <tr>\n",
       "      <th>4</th>\n",
       "      <td>4011</td>\n",
       "      <td>ITEM NOT FOUND</td>\n",
       "      <td>28.00</td>\n",
       "      <td>28.00</td>\n",
       "      <td>False</td>\n",
       "      <td>1</td>\n",
       "      <td>True</td>\n",
       "      <td>4</td>\n",
       "      <td>4011</td>\n",
       "      <td>True</td>\n",
       "      <td>...</td>\n",
       "      <td>None</td>\n",
       "      <td>None</td>\n",
       "      <td>None</td>\n",
       "      <td>None</td>\n",
       "      <td>None</td>\n",
       "      <td>None</td>\n",
       "      <td>None</td>\n",
       "      <td>None</td>\n",
       "      <td>None</td>\n",
       "      <td>5ff1e1ee0a7214ada100056f</td>\n",
       "    </tr>\n",
       "  </tbody>\n",
       "</table>\n",
       "<p>5 rows × 35 columns</p>\n",
       "</div>"
      ],
      "text/plain": [
       "        barcode                                        description finalPrice  \\\n",
       "0          4011                                     ITEM NOT FOUND      26.00   \n",
       "1          4011                                     ITEM NOT FOUND          1   \n",
       "2  028400642255  DORITOS TORTILLA CHIP SPICY SWEET CHILI REDUCE...      10.00   \n",
       "3          None                                               None       None   \n",
       "4          4011                                     ITEM NOT FOUND      28.00   \n",
       "\n",
       "  itemPrice needsFetchReview partnerItemId preventTargetGapPoints  \\\n",
       "0     26.00            False             1                   True   \n",
       "1         1             None             1                   None   \n",
       "2     10.00             True             2                   True   \n",
       "3      None            False             1                   True   \n",
       "4     28.00            False             1                   True   \n",
       "\n",
       "  quantityPurchased userFlaggedBarcode userFlaggedNewItem  ...  \\\n",
       "0                 5               4011               True  ...   \n",
       "1                 1               None               None  ...   \n",
       "2                 1       028400642255               True  ...   \n",
       "3              None               4011               True  ...   \n",
       "4                 4               4011               True  ...   \n",
       "\n",
       "  originalMetaBriteQuantityPurchased pointsEarned targetPrice  \\\n",
       "0                               None         None        None   \n",
       "1                               None         None        None   \n",
       "2                               None         None        None   \n",
       "3                               None         None        None   \n",
       "4                               None         None        None   \n",
       "\n",
       "  competitiveProduct originalFinalPrice originalMetaBriteItemPrice deleted  \\\n",
       "0               None               None                       None    None   \n",
       "1               None               None                       None    None   \n",
       "2               None               None                       None    None   \n",
       "3               None               None                       None    None   \n",
       "4               None               None                       None    None   \n",
       "\n",
       "  priceAfterCoupon metabriteCampaignId                 ReceiptId  \n",
       "0             None                None  5ff1e1eb0a720f0523000575  \n",
       "1             None                None  5ff1e1bb0a720f052300056b  \n",
       "2             None                None  5ff1e1bb0a720f052300056b  \n",
       "3             None                None  5ff1e1f10a720f052300057a  \n",
       "4             None                None  5ff1e1ee0a7214ada100056f  \n",
       "\n",
       "[5 rows x 35 columns]"
      ]
     },
     "execution_count": 47,
     "metadata": {},
     "output_type": "execute_result"
    }
   ],
   "source": [
    "item_df.head()"
   ]
  },
  {
   "cell_type": "code",
   "execution_count": null,
   "id": "386e6ce7",
   "metadata": {},
   "outputs": [],
   "source": [
    "rrit.head()"
   ]
  },
  {
   "cell_type": "code",
   "execution_count": null,
   "id": "a23c4395",
   "metadata": {},
   "outputs": [],
   "source": [
    "#rrit[rrit['brandCode'].isna()]['brandCode']"
   ]
  },
  {
   "cell_type": "code",
   "execution_count": null,
   "id": "537fcb2c",
   "metadata": {},
   "outputs": [],
   "source": [
    "#rrit = rrit.drop(['rewardsReceiptItemList'], axis = 1)"
   ]
  },
  {
   "cell_type": "code",
   "execution_count": 49,
   "id": "bd8dafde",
   "metadata": {},
   "outputs": [],
   "source": [
    "receipts = receipts.drop(['rewardsReceiptItemList'], axis = 1)\n",
    "#receipts = pd.merge(receipts, rrit, how = 'left', on = 'ReceiptId')"
   ]
  },
  {
   "cell_type": "code",
   "execution_count": 50,
   "id": "28be5ee7",
   "metadata": {},
   "outputs": [],
   "source": [
    "# users \n",
    "users = pd.read_json('users.json', lines=True)\n",
    "users['_id'] = users['_id'].apply(lambda x: list(x.values())[0])\n",
    "users['createdDate'] = users['createdDate'].apply(lambda x: date_convert(x))\n",
    "users['lastLogin'] = users['lastLogin'].apply(lambda x: date_convert(x))\n",
    "users = users.rename(columns = {'_id':'userId'}) "
   ]
  },
  {
   "cell_type": "code",
   "execution_count": null,
   "id": "b843c508",
   "metadata": {},
   "outputs": [],
   "source": [
    "brands.columns"
   ]
  },
  {
   "cell_type": "code",
   "execution_count": null,
   "id": "7d6ec0fc",
   "metadata": {},
   "outputs": [],
   "source": [
    "receipts.columns "
   ]
  },
  {
   "cell_type": "code",
   "execution_count": null,
   "id": "841e2ed1",
   "metadata": {},
   "outputs": [],
   "source": [
    "receipts.head()"
   ]
  },
  {
   "cell_type": "code",
   "execution_count": null,
   "id": "3d05cede",
   "metadata": {},
   "outputs": [],
   "source": [
    "users.columns"
   ]
  },
  {
   "cell_type": "code",
   "execution_count": null,
   "id": "bab5ae07",
   "metadata": {},
   "outputs": [],
   "source": [
    "len(users)"
   ]
  },
  {
   "cell_type": "code",
   "execution_count": null,
   "id": "30b734e5",
   "metadata": {},
   "outputs": [],
   "source": [
    "type(users['userId'][0])"
   ]
  },
  {
   "cell_type": "code",
   "execution_count": 52,
   "id": "dd68d6f5",
   "metadata": {},
   "outputs": [],
   "source": [
    "brands.to_csv('brands.csv',encoding='utf-8')\n",
    "users.to_csv('users.csv',encoding='utf-8')\n",
    "receipts.to_csv('receipts.csv',encoding='utf-8')\n",
    "item_df.to_csv('items.csv',encoding='utf-8')"
   ]
  },
  {
   "cell_type": "markdown",
   "id": "36e18aa2",
   "metadata": {},
   "source": [
    "# Data Quality Issue"
   ]
  },
  {
   "cell_type": "markdown",
   "id": "1ad4d681",
   "metadata": {},
   "source": [
    "1. Check Duplicated rows "
   ]
  },
  {
   "cell_type": "code",
   "execution_count": 54,
   "id": "8da5492f",
   "metadata": {},
   "outputs": [
    {
     "name": "stdout",
     "output_type": "stream",
     "text": [
      "duplicate rows in receipts:\n",
      " False    1119\n",
      "dtype: int64 \n",
      "\n",
      "duplicate rows in users:\n",
      " True     283\n",
      "False    212\n",
      "dtype: int64 \n",
      "\n",
      "duplicate rows in brands:\n",
      " False    1167\n",
      "dtype: int64 \n",
      "\n"
     ]
    }
   ],
   "source": [
    "print('duplicate rows in receipts:\\n',\n",
    "      receipts.duplicated().value_counts(),'\\n') # no duplicates in receipts\n",
    "\n",
    "print('duplicate rows in users:\\n',\n",
    "      users.duplicated().value_counts(),'\\n') # 283 rows in users are duplicated\n",
    "\n",
    "print('duplicate rows in brands:\\n',\n",
    "      brands.duplicated().value_counts(),'\\n') # no duplicates in brands"
   ]
  },
  {
   "cell_type": "markdown",
   "id": "e55b4081",
   "metadata": {},
   "source": [
    "2. Check missing value"
   ]
  },
  {
   "cell_type": "code",
   "execution_count": 55,
   "id": "e6bf0b42",
   "metadata": {},
   "outputs": [
    {
     "name": "stdout",
     "output_type": "stream",
     "text": [
      "receipts dataset (1119 rows) \n",
      " null value of each variable:\n",
      " \n",
      " ReceiptId                    0\n",
      "bonusPointsEarned          575\n",
      "bonusPointsEarnedReason    575\n",
      "createDate                   0\n",
      "dateScanned                  0\n",
      "finishedDate               551\n",
      "modifyDate                   0\n",
      "pointsAwardedDate          582\n",
      "pointsEarned               510\n",
      "purchaseDate               448\n",
      "purchasedItemCount         484\n",
      "rewardsReceiptStatus         0\n",
      "totalSpent                 435\n",
      "userId                       0\n",
      "dtype: int64 \n",
      "\n",
      "-------------------\n",
      "users dataset (495 rows) \n",
      " null value of each variable:\n",
      " \n",
      " userId           0\n",
      "active           0\n",
      "createdDate      0\n",
      "lastLogin       62\n",
      "role             0\n",
      "signUpSource    48\n",
      "state           56\n",
      "dtype: int64 \n",
      "\n",
      "-------------------\n",
      "brands dataset (1167 rows) \n",
      " null value of each variable:\n",
      " \n",
      " BrandId           0\n",
      "barcode           0\n",
      "category        155\n",
      "categoryCode    650\n",
      "name              0\n",
      "topBrand        612\n",
      "brandCode       234\n",
      "oid               0\n",
      "ref               0\n",
      "dtype: int64 \n",
      "\n",
      "-------------------\n"
     ]
    }
   ],
   "source": [
    "print ('receipts dataset ({} rows) \\n null value of each variable:\\n'.format(receipts.shape[0]),\n",
    "       '\\n',receipts.isnull().sum(),'\\n')\n",
    "print('-------------------')\n",
    "\n",
    "print ('users dataset ({} rows) \\n null value of each variable:\\n'.format(users.shape[0]),\n",
    "       '\\n',users.isnull().sum(),'\\n')\n",
    "print('-------------------')\n",
    "\n",
    "print ('brands dataset ({} rows) \\n null value of each variable:\\n'.format(brands.shape[0]),\n",
    "       '\\n',brands.isnull().sum(),'\\n')\n",
    "print('-------------------')"
   ]
  },
  {
   "cell_type": "markdown",
   "id": "203c6c9c",
   "metadata": {},
   "source": [
    "3. Check Outliers "
   ]
  },
  {
   "cell_type": "code",
   "execution_count": 56,
   "id": "e9f6a5a9",
   "metadata": {},
   "outputs": [
    {
     "data": {
      "image/png": "[encoded data removed]",
      "text/plain": [
       "<Figure size 432x288 with 1 Axes>"
      ]
     },
     "metadata": {
      "needs_background": "light"
     },
     "output_type": "display_data"
    }
   ],
   "source": [
    "boxplot_r = receipts.boxplot(column=['bonusPointsEarned', 'purchasedItemCount','totalSpent'])"
   ]
  },
  {
   "cell_type": "markdown",
   "id": "59c5ee9c",
   "metadata": {},
   "source": [
    "4. The barcode does not have a uniform type "
   ]
  },
  {
   "cell_type": "code",
   "execution_count": 59,
   "id": "49e649a1",
   "metadata": {},
   "outputs": [
    {
     "data": {
      "text/plain": [
       "0               4011\n",
       "1               4011\n",
       "2       028400642255\n",
       "3               None\n",
       "4               4011\n",
       "            ...     \n",
       "6936      B07BRRLSVC\n",
       "6937      B076FJ92M4\n",
       "6938      B07BRRLSVC\n",
       "6939      B076FJ92M4\n",
       "6940      B07BRRLSVC\n",
       "Name: barcode, Length: 6941, dtype: object"
      ]
     },
     "execution_count": 59,
     "metadata": {},
     "output_type": "execute_result"
    }
   ],
   "source": [
    "item_df['barcode']"
   ]
  },
  {
   "cell_type": "code",
   "execution_count": 60,
   "id": "5df0cdc7",
   "metadata": {},
   "outputs": [
    {
     "data": {
      "text/plain": [
       "0       511111019862\n",
       "1       511111519928\n",
       "2       511111819905\n",
       "3       511111519874\n",
       "4       511111319917\n",
       "            ...     \n",
       "1162    511111116752\n",
       "1163    511111706328\n",
       "1164    511111416173\n",
       "1165    511111400608\n",
       "1166    511111019930\n",
       "Name: barcode, Length: 1167, dtype: object"
      ]
     },
     "execution_count": 60,
     "metadata": {},
     "output_type": "execute_result"
    }
   ],
   "source": [
    "brands['barcode']"
   ]
  },
  {
   "cell_type": "code",
   "execution_count": 62,
   "id": "3c236a72",
   "metadata": {},
   "outputs": [
    {
     "name": "stdout",
     "output_type": "stream",
     "text": [
      "There are 89 rows in merged data set.\n"
     ]
    }
   ],
   "source": [
    "b = pd.merge(left = item_df, right = brands,how = 'inner', on = ['barcode'])\n",
    "print('There are only %s rows in merged data set.' %len(b))"
   ]
  }
 ],
 "metadata": {
  "kernelspec": {
   "display_name": "Python 3",
   "language": "python",
   "name": "python3"
  },
  "language_info": {
   "codemirror_mode": {
    "name": "ipython",
    "version": 3
   },
   "file_extension": ".py",
   "mimetype": "text/x-python",
   "name": "python",
   "nbconvert_exporter": "python",
   "pygments_lexer": "ipython3",
   "version": "3.8.8"
  }
 },
 "nbformat": 4,
 "nbformat_minor": 5
}
